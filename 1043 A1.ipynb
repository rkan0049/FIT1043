{
 "cells": [
  {
   "cell_type": "markdown",
   "id": "580d25e1-c135-44fa-9595-e16e035b26ee",
   "metadata": {},
   "source": [
    "# FIT1043 A1 KAN ROU YI 34661093"
   ]
  },
  {
   "cell_type": "code",
   "execution_count": 713,
   "id": "199a2559-e770-49f3-a2a8-adf95ceadb65",
   "metadata": {},
   "outputs": [],
   "source": [
    "import pandas as pd\n",
    "from matplotlib import pyplot as plt\n",
    "import matplotlib.pyplot as plt"
   ]
  },
  {
   "cell_type": "code",
   "execution_count": 714,
   "id": "5a346c3b-5bff-4b27-8c63-f731c793534e",
   "metadata": {},
   "outputs": [
    {
     "data": {
      "text/html": [
       "<div>\n",
       "<style scoped>\n",
       "    .dataframe tbody tr th:only-of-type {\n",
       "        vertical-align: middle;\n",
       "    }\n",
       "\n",
       "    .dataframe tbody tr th {\n",
       "        vertical-align: top;\n",
       "    }\n",
       "\n",
       "    .dataframe thead th {\n",
       "        text-align: right;\n",
       "    }\n",
       "</style>\n",
       "<table border=\"1\" class=\"dataframe\">\n",
       "  <thead>\n",
       "    <tr style=\"text-align: right;\">\n",
       "      <th></th>\n",
       "      <th>StudentID</th>\n",
       "      <th>Age</th>\n",
       "      <th>ParentalEducation</th>\n",
       "      <th>StudyTimeWeekly</th>\n",
       "      <th>Absences</th>\n",
       "      <th>Tutoring</th>\n",
       "      <th>ParentalSupport</th>\n",
       "      <th>Extracurricular</th>\n",
       "      <th>Sports</th>\n",
       "      <th>Music</th>\n",
       "      <th>Volunteering</th>\n",
       "      <th>GPA</th>\n",
       "      <th>GradeClass</th>\n",
       "    </tr>\n",
       "  </thead>\n",
       "  <tbody>\n",
       "    <tr>\n",
       "      <th>0</th>\n",
       "      <td>1640</td>\n",
       "      <td>18</td>\n",
       "      <td>Some College</td>\n",
       "      <td>10.318918</td>\n",
       "      <td>5</td>\n",
       "      <td>No</td>\n",
       "      <td>2</td>\n",
       "      <td>No</td>\n",
       "      <td>Yes</td>\n",
       "      <td>No</td>\n",
       "      <td>No</td>\n",
       "      <td>2.655994</td>\n",
       "      <td>C</td>\n",
       "    </tr>\n",
       "    <tr>\n",
       "      <th>1</th>\n",
       "      <td>2939</td>\n",
       "      <td>16</td>\n",
       "      <td>Bachelor's</td>\n",
       "      <td>6.517803</td>\n",
       "      <td>2</td>\n",
       "      <td>Yes</td>\n",
       "      <td>2</td>\n",
       "      <td>No</td>\n",
       "      <td>Yes</td>\n",
       "      <td>No</td>\n",
       "      <td>No</td>\n",
       "      <td>3.474562</td>\n",
       "      <td>B</td>\n",
       "    </tr>\n",
       "    <tr>\n",
       "      <th>2</th>\n",
       "      <td>2877</td>\n",
       "      <td>15</td>\n",
       "      <td>Some College</td>\n",
       "      <td>0.815700</td>\n",
       "      <td>1</td>\n",
       "      <td>No</td>\n",
       "      <td>1</td>\n",
       "      <td>No</td>\n",
       "      <td>No</td>\n",
       "      <td>Yes</td>\n",
       "      <td>Yes</td>\n",
       "      <td>2.806878</td>\n",
       "      <td>C</td>\n",
       "    </tr>\n",
       "    <tr>\n",
       "      <th>3</th>\n",
       "      <td>1628</td>\n",
       "      <td>16</td>\n",
       "      <td>High School</td>\n",
       "      <td>6.304335</td>\n",
       "      <td>8</td>\n",
       "      <td>No</td>\n",
       "      <td>3</td>\n",
       "      <td>No</td>\n",
       "      <td>No</td>\n",
       "      <td>No</td>\n",
       "      <td>No</td>\n",
       "      <td>2.150546</td>\n",
       "      <td>D</td>\n",
       "    </tr>\n",
       "    <tr>\n",
       "      <th>4</th>\n",
       "      <td>2052</td>\n",
       "      <td>15</td>\n",
       "      <td>Some College</td>\n",
       "      <td>2.516047</td>\n",
       "      <td>14</td>\n",
       "      <td>Yes</td>\n",
       "      <td>3</td>\n",
       "      <td>Yes</td>\n",
       "      <td>No</td>\n",
       "      <td>No</td>\n",
       "      <td>No</td>\n",
       "      <td>2.253871</td>\n",
       "      <td>D</td>\n",
       "    </tr>\n",
       "    <tr>\n",
       "      <th>...</th>\n",
       "      <td>...</td>\n",
       "      <td>...</td>\n",
       "      <td>...</td>\n",
       "      <td>...</td>\n",
       "      <td>...</td>\n",
       "      <td>...</td>\n",
       "      <td>...</td>\n",
       "      <td>...</td>\n",
       "      <td>...</td>\n",
       "      <td>...</td>\n",
       "      <td>...</td>\n",
       "      <td>...</td>\n",
       "      <td>...</td>\n",
       "    </tr>\n",
       "    <tr>\n",
       "      <th>1495</th>\n",
       "      <td>1944</td>\n",
       "      <td>15</td>\n",
       "      <td>No Education</td>\n",
       "      <td>10.596678</td>\n",
       "      <td>12</td>\n",
       "      <td>No</td>\n",
       "      <td>1</td>\n",
       "      <td>No</td>\n",
       "      <td>No</td>\n",
       "      <td>No</td>\n",
       "      <td>Yes</td>\n",
       "      <td>1.621012</td>\n",
       "      <td>F</td>\n",
       "    </tr>\n",
       "    <tr>\n",
       "      <th>1496</th>\n",
       "      <td>1566</td>\n",
       "      <td>16</td>\n",
       "      <td>Some College</td>\n",
       "      <td>3.278634</td>\n",
       "      <td>4</td>\n",
       "      <td>Yes</td>\n",
       "      <td>4</td>\n",
       "      <td>Yes</td>\n",
       "      <td>No</td>\n",
       "      <td>No</td>\n",
       "      <td>No</td>\n",
       "      <td>3.244882</td>\n",
       "      <td>B</td>\n",
       "    </tr>\n",
       "    <tr>\n",
       "      <th>1497</th>\n",
       "      <td>3268</td>\n",
       "      <td>18</td>\n",
       "      <td>Some College</td>\n",
       "      <td>7.598010</td>\n",
       "      <td>0</td>\n",
       "      <td>Yes</td>\n",
       "      <td>3</td>\n",
       "      <td>No</td>\n",
       "      <td>No</td>\n",
       "      <td>No</td>\n",
       "      <td>No</td>\n",
       "      <td>3.040730</td>\n",
       "      <td>F</td>\n",
       "    </tr>\n",
       "    <tr>\n",
       "      <th>1498</th>\n",
       "      <td>3237</td>\n",
       "      <td>17</td>\n",
       "      <td>Some College</td>\n",
       "      <td>15.078754</td>\n",
       "      <td>24</td>\n",
       "      <td>No</td>\n",
       "      <td>4</td>\n",
       "      <td>No</td>\n",
       "      <td>No</td>\n",
       "      <td>Yes</td>\n",
       "      <td>No</td>\n",
       "      <td>1.245091</td>\n",
       "      <td>F</td>\n",
       "    </tr>\n",
       "    <tr>\n",
       "      <th>1499</th>\n",
       "      <td>1149</td>\n",
       "      <td>15</td>\n",
       "      <td>Higher</td>\n",
       "      <td>1.360205</td>\n",
       "      <td>22</td>\n",
       "      <td>No</td>\n",
       "      <td>1</td>\n",
       "      <td>Yes</td>\n",
       "      <td>Yes</td>\n",
       "      <td>No</td>\n",
       "      <td>Yes</td>\n",
       "      <td>1.007226</td>\n",
       "      <td>F</td>\n",
       "    </tr>\n",
       "  </tbody>\n",
       "</table>\n",
       "<p>1500 rows × 13 columns</p>\n",
       "</div>"
      ],
      "text/plain": [
       "      StudentID  Age ParentalEducation  StudyTimeWeekly  Absences Tutoring  \\\n",
       "0          1640   18      Some College        10.318918         5       No   \n",
       "1          2939   16        Bachelor's         6.517803         2      Yes   \n",
       "2          2877   15      Some College         0.815700         1       No   \n",
       "3          1628   16       High School         6.304335         8       No   \n",
       "4          2052   15      Some College         2.516047        14      Yes   \n",
       "...         ...  ...               ...              ...       ...      ...   \n",
       "1495       1944   15      No Education        10.596678        12       No   \n",
       "1496       1566   16      Some College         3.278634         4      Yes   \n",
       "1497       3268   18      Some College         7.598010         0      Yes   \n",
       "1498       3237   17      Some College        15.078754        24       No   \n",
       "1499       1149   15            Higher         1.360205        22       No   \n",
       "\n",
       "      ParentalSupport Extracurricular Sports Music Volunteering       GPA  \\\n",
       "0                   2              No    Yes    No           No  2.655994   \n",
       "1                   2              No    Yes    No           No  3.474562   \n",
       "2                   1              No     No   Yes          Yes  2.806878   \n",
       "3                   3              No     No    No           No  2.150546   \n",
       "4                   3             Yes     No    No           No  2.253871   \n",
       "...               ...             ...    ...   ...          ...       ...   \n",
       "1495                1              No     No    No          Yes  1.621012   \n",
       "1496                4             Yes     No    No           No  3.244882   \n",
       "1497                3              No     No    No           No  3.040730   \n",
       "1498                4              No     No   Yes           No  1.245091   \n",
       "1499                1             Yes    Yes    No          Yes  1.007226   \n",
       "\n",
       "     GradeClass  \n",
       "0             C  \n",
       "1             B  \n",
       "2             C  \n",
       "3             D  \n",
       "4             D  \n",
       "...         ...  \n",
       "1495          F  \n",
       "1496          B  \n",
       "1497          F  \n",
       "1498          F  \n",
       "1499          F  \n",
       "\n",
       "[1500 rows x 13 columns]"
      ]
     },
     "execution_count": 714,
     "metadata": {},
     "output_type": "execute_result"
    }
   ],
   "source": [
    "df = pd.read_csv('Student_List.csv')\n",
    "df"
   ]
  },
  {
   "cell_type": "markdown",
   "id": "ff491168-f65a-49b7-947e-995d7bc2835c",
   "metadata": {},
   "source": [
    "# A1. Exploring the dataset"
   ]
  },
  {
   "cell_type": "markdown",
   "id": "938298d3-50ca-48e8-9080-b7c96628f9c9",
   "metadata": {},
   "source": [
    "### 1. How many students are there in this dataset?"
   ]
  },
  {
   "cell_type": "code",
   "execution_count": 717,
   "id": "00875296-84fb-423c-b53b-aa8c528e8fa5",
   "metadata": {},
   "outputs": [
    {
     "name": "stdout",
     "output_type": "stream",
     "text": [
      "Total number of students: 1500\n"
     ]
    }
   ],
   "source": [
    "num_students = df.shape[0]\n",
    "print(f'Total number of students: {num_students}')"
   ]
  },
  {
   "cell_type": "markdown",
   "id": "216d61fb-1b5c-43dd-8327-e452800af0ba",
   "metadata": {},
   "source": [
    "### 2. What is the age range of students in this dataset?"
   ]
  },
  {
   "cell_type": "code",
   "execution_count": 719,
   "id": "7e03e9fb-217e-441d-9a67-8a86a7f64a90",
   "metadata": {},
   "outputs": [
    {
     "data": {
      "text/html": [
       "<div>\n",
       "<style scoped>\n",
       "    .dataframe tbody tr th:only-of-type {\n",
       "        vertical-align: middle;\n",
       "    }\n",
       "\n",
       "    .dataframe tbody tr th {\n",
       "        vertical-align: top;\n",
       "    }\n",
       "\n",
       "    .dataframe thead th {\n",
       "        text-align: right;\n",
       "    }\n",
       "</style>\n",
       "<table border=\"1\" class=\"dataframe\">\n",
       "  <thead>\n",
       "    <tr style=\"text-align: right;\">\n",
       "      <th></th>\n",
       "      <th>StudentID</th>\n",
       "      <th>Age</th>\n",
       "      <th>StudyTimeWeekly</th>\n",
       "      <th>Absences</th>\n",
       "      <th>ParentalSupport</th>\n",
       "      <th>GPA</th>\n",
       "    </tr>\n",
       "  </thead>\n",
       "  <tbody>\n",
       "    <tr>\n",
       "      <th>count</th>\n",
       "      <td>1500.000000</td>\n",
       "      <td>1500.000000</td>\n",
       "      <td>1500.000000</td>\n",
       "      <td>1500.000000</td>\n",
       "      <td>1500.000000</td>\n",
       "      <td>1500.000000</td>\n",
       "    </tr>\n",
       "    <tr>\n",
       "      <th>mean</th>\n",
       "      <td>2209.142667</td>\n",
       "      <td>16.464000</td>\n",
       "      <td>9.625516</td>\n",
       "      <td>14.540000</td>\n",
       "      <td>2.131333</td>\n",
       "      <td>1.901045</td>\n",
       "    </tr>\n",
       "    <tr>\n",
       "      <th>std</th>\n",
       "      <td>693.068389</td>\n",
       "      <td>1.124372</td>\n",
       "      <td>5.718608</td>\n",
       "      <td>8.459557</td>\n",
       "      <td>1.116654</td>\n",
       "      <td>0.923638</td>\n",
       "    </tr>\n",
       "    <tr>\n",
       "      <th>min</th>\n",
       "      <td>1002.000000</td>\n",
       "      <td>15.000000</td>\n",
       "      <td>0.001057</td>\n",
       "      <td>0.000000</td>\n",
       "      <td>0.000000</td>\n",
       "      <td>0.000000</td>\n",
       "    </tr>\n",
       "    <tr>\n",
       "      <th>25%</th>\n",
       "      <td>1599.750000</td>\n",
       "      <td>15.000000</td>\n",
       "      <td>4.717155</td>\n",
       "      <td>7.000000</td>\n",
       "      <td>1.000000</td>\n",
       "      <td>1.171847</td>\n",
       "    </tr>\n",
       "    <tr>\n",
       "      <th>50%</th>\n",
       "      <td>2211.500000</td>\n",
       "      <td>16.000000</td>\n",
       "      <td>9.362636</td>\n",
       "      <td>15.000000</td>\n",
       "      <td>2.000000</td>\n",
       "      <td>1.881249</td>\n",
       "    </tr>\n",
       "    <tr>\n",
       "      <th>75%</th>\n",
       "      <td>2804.750000</td>\n",
       "      <td>17.000000</td>\n",
       "      <td>14.374170</td>\n",
       "      <td>22.000000</td>\n",
       "      <td>3.000000</td>\n",
       "      <td>2.623266</td>\n",
       "    </tr>\n",
       "    <tr>\n",
       "      <th>max</th>\n",
       "      <td>3389.000000</td>\n",
       "      <td>18.000000</td>\n",
       "      <td>19.978094</td>\n",
       "      <td>29.000000</td>\n",
       "      <td>4.000000</td>\n",
       "      <td>4.000000</td>\n",
       "    </tr>\n",
       "  </tbody>\n",
       "</table>\n",
       "</div>"
      ],
      "text/plain": [
       "         StudentID          Age  StudyTimeWeekly     Absences  \\\n",
       "count  1500.000000  1500.000000      1500.000000  1500.000000   \n",
       "mean   2209.142667    16.464000         9.625516    14.540000   \n",
       "std     693.068389     1.124372         5.718608     8.459557   \n",
       "min    1002.000000    15.000000         0.001057     0.000000   \n",
       "25%    1599.750000    15.000000         4.717155     7.000000   \n",
       "50%    2211.500000    16.000000         9.362636    15.000000   \n",
       "75%    2804.750000    17.000000        14.374170    22.000000   \n",
       "max    3389.000000    18.000000        19.978094    29.000000   \n",
       "\n",
       "       ParentalSupport          GPA  \n",
       "count      1500.000000  1500.000000  \n",
       "mean          2.131333     1.901045  \n",
       "std           1.116654     0.923638  \n",
       "min           0.000000     0.000000  \n",
       "25%           1.000000     1.171847  \n",
       "50%           2.000000     1.881249  \n",
       "75%           3.000000     2.623266  \n",
       "max           4.000000     4.000000  "
      ]
     },
     "execution_count": 719,
     "metadata": {},
     "output_type": "execute_result"
    }
   ],
   "source": [
    "df.describe()"
   ]
  },
  {
   "cell_type": "code",
   "execution_count": 809,
   "id": "e024f81b-4168-466d-9be1-76cfb4cc4d60",
   "metadata": {},
   "outputs": [
    {
     "name": "stdout",
     "output_type": "stream",
     "text": [
      "Range: 3\n"
     ]
    }
   ],
   "source": [
    "max = df['Age'].max()\n",
    "min = df['Age'].min()\n",
    "range = max - min \n",
    "print('Range:',range) "
   ]
  },
  {
   "cell_type": "markdown",
   "id": "fe5c6665-ab02-4e1c-bd09-cc85dfabcfea",
   "metadata": {},
   "source": [
    "### 3. Identify and discuss the data types of each column in the dataset. "
   ]
  },
  {
   "cell_type": "code",
   "execution_count": 722,
   "id": "2456a2ab-7718-42d4-8169-7f3b9bedebaa",
   "metadata": {},
   "outputs": [
    {
     "data": {
      "text/plain": [
       "StudentID              int64\n",
       "Age                    int64\n",
       "ParentalEducation     object\n",
       "StudyTimeWeekly      float64\n",
       "Absences               int64\n",
       "Tutoring              object\n",
       "ParentalSupport        int64\n",
       "Extracurricular       object\n",
       "Sports                object\n",
       "Music                 object\n",
       "Volunteering          object\n",
       "GPA                  float64\n",
       "GradeClass            object\n",
       "dtype: object"
      ]
     },
     "execution_count": 722,
     "metadata": {},
     "output_type": "execute_result"
    }
   ],
   "source": [
    "df.dtypes"
   ]
  },
  {
   "cell_type": "markdown",
   "id": "4c6dd239-207f-4e84-b236-6d3be5dd5077",
   "metadata": {},
   "source": [
    "### 4. GradeClass corresponds to different categories of grades, where, for example, 'A' corresponds to the highest grade (GPA ≥ 3.5) and 'F' corresponds to the lowest grade (GPA < 2.0). Calculate the percentage of students in each grade category."
   ]
  },
  {
   "cell_type": "code",
   "execution_count": 724,
   "id": "a3218a6f-83f1-4840-9478-d5a9ea8bcbcf",
   "metadata": {},
   "outputs": [
    {
     "data": {
      "text/plain": [
       "GradeClass\n",
       "F    51.000000\n",
       "D    16.533333\n",
       "C    16.266667\n",
       "B    12.200000\n",
       "A     4.000000\n",
       "Name: count, dtype: float64"
      ]
     },
     "execution_count": 724,
     "metadata": {},
     "output_type": "execute_result"
    }
   ],
   "source": [
    "grade_counts = df['GradeClass'].value_counts()\n",
    "total_students = len(df)\n",
    "grade_percentages = (grade_counts / total_students) * 100\n",
    "grade_percentages"
   ]
  },
  {
   "cell_type": "markdown",
   "id": "68fe3b06-fcae-4301-9cd1-4e3a92f236ee",
   "metadata": {},
   "source": [
    "### 5. Create a pie chart to show the proportion of students in each GradeClass and discuss your observations."
   ]
  },
  {
   "cell_type": "code",
   "execution_count": 726,
   "id": "f22bb529-c927-43ea-b810-686c78eed6c1",
   "metadata": {},
   "outputs": [],
   "source": [
    "import matplotlib.pylab as plt\n",
    "%matplotlib inline "
   ]
  },
  {
   "cell_type": "code",
   "execution_count": 727,
   "id": "cf2b499a-6f63-4a2c-a05c-ae99ddfea483",
   "metadata": {},
   "outputs": [
    {
     "data": {
      "image/png": "[encoded data removed]",
      "text/plain": [
       "<Figure size 640x480 with 1 Axes>"
      ]
     },
     "metadata": {},
     "output_type": "display_data"
    }
   ],
   "source": [
    "df['GradeClass'].value_counts().plot.pie(autopct = '%1.1f%%')\n",
    "plt.title('Proportion of students in each GradeClass')\n",
    "plt.show()"
   ]
  },
  {
   "cell_type": "markdown",
   "id": "61b04461-03a1-49c2-8b07-2fe3d95f47f0",
   "metadata": {},
   "source": [
    "#### Explanation:\n",
    "##### From the pie chart, we can know that the proportion of students in each grade class.\n",
    "##### F - 51.0% So, the majority of studets are in grade class F.\n",
    "##### D - 16.5% in grade class D\n",
    "##### C - 16.3% in grade class C \n",
    "##### B - 12.2% in grade class B \n",
    "##### A - 4.0% in grade class A \n",
    "##### In conclusion ,most of the studetns are failing and only few achieving high grades of A and B "
   ]
  },
  {
   "cell_type": "markdown",
   "id": "943722ef-519c-41ef-9847-e674c6b393fa",
   "metadata": {},
   "source": [
    "# A2. Exploring Parental Education"
   ]
  },
  {
   "cell_type": "markdown",
   "id": "220c99f5-82aa-49e8-8ca0-71bc8fe0673d",
   "metadata": {},
   "source": [
    "### 1. Determine the frequency of different levels of parental education.\n",
    "\n",
    "● How many parents have the highest education level (denoted by Higher) in\n",
    "this dataset?\n",
    "\n",
    "● How many have no education?\n",
    "\n",
    "● What is the most common level of parental education?"
   ]
  },
  {
   "cell_type": "code",
   "execution_count": 731,
   "id": "eeb6ac4c-a63a-4b9d-ba4f-6d9415f21564",
   "metadata": {},
   "outputs": [
    {
     "data": {
      "text/html": [
       "<div>\n",
       "<style scoped>\n",
       "    .dataframe tbody tr th:only-of-type {\n",
       "        vertical-align: middle;\n",
       "    }\n",
       "\n",
       "    .dataframe tbody tr th {\n",
       "        vertical-align: top;\n",
       "    }\n",
       "\n",
       "    .dataframe thead th {\n",
       "        text-align: right;\n",
       "    }\n",
       "</style>\n",
       "<table border=\"1\" class=\"dataframe\">\n",
       "  <thead>\n",
       "    <tr style=\"text-align: right;\">\n",
       "      <th></th>\n",
       "      <th>StudentID</th>\n",
       "      <th>Age</th>\n",
       "      <th>ParentalEducation</th>\n",
       "      <th>StudyTimeWeekly</th>\n",
       "      <th>Absences</th>\n",
       "      <th>Tutoring</th>\n",
       "      <th>ParentalSupport</th>\n",
       "      <th>Extracurricular</th>\n",
       "      <th>Sports</th>\n",
       "      <th>Music</th>\n",
       "      <th>Volunteering</th>\n",
       "      <th>GPA</th>\n",
       "      <th>GradeClass</th>\n",
       "    </tr>\n",
       "  </thead>\n",
       "  <tbody>\n",
       "    <tr>\n",
       "      <th>0</th>\n",
       "      <td>1640</td>\n",
       "      <td>18</td>\n",
       "      <td>Some College</td>\n",
       "      <td>10.318918</td>\n",
       "      <td>5</td>\n",
       "      <td>No</td>\n",
       "      <td>2</td>\n",
       "      <td>No</td>\n",
       "      <td>Yes</td>\n",
       "      <td>No</td>\n",
       "      <td>No</td>\n",
       "      <td>2.655994</td>\n",
       "      <td>C</td>\n",
       "    </tr>\n",
       "    <tr>\n",
       "      <th>1</th>\n",
       "      <td>2939</td>\n",
       "      <td>16</td>\n",
       "      <td>Bachelor's</td>\n",
       "      <td>6.517803</td>\n",
       "      <td>2</td>\n",
       "      <td>Yes</td>\n",
       "      <td>2</td>\n",
       "      <td>No</td>\n",
       "      <td>Yes</td>\n",
       "      <td>No</td>\n",
       "      <td>No</td>\n",
       "      <td>3.474562</td>\n",
       "      <td>B</td>\n",
       "    </tr>\n",
       "    <tr>\n",
       "      <th>2</th>\n",
       "      <td>2877</td>\n",
       "      <td>15</td>\n",
       "      <td>Some College</td>\n",
       "      <td>0.815700</td>\n",
       "      <td>1</td>\n",
       "      <td>No</td>\n",
       "      <td>1</td>\n",
       "      <td>No</td>\n",
       "      <td>No</td>\n",
       "      <td>Yes</td>\n",
       "      <td>Yes</td>\n",
       "      <td>2.806878</td>\n",
       "      <td>C</td>\n",
       "    </tr>\n",
       "    <tr>\n",
       "      <th>3</th>\n",
       "      <td>1628</td>\n",
       "      <td>16</td>\n",
       "      <td>High School</td>\n",
       "      <td>6.304335</td>\n",
       "      <td>8</td>\n",
       "      <td>No</td>\n",
       "      <td>3</td>\n",
       "      <td>No</td>\n",
       "      <td>No</td>\n",
       "      <td>No</td>\n",
       "      <td>No</td>\n",
       "      <td>2.150546</td>\n",
       "      <td>D</td>\n",
       "    </tr>\n",
       "    <tr>\n",
       "      <th>4</th>\n",
       "      <td>2052</td>\n",
       "      <td>15</td>\n",
       "      <td>Some College</td>\n",
       "      <td>2.516047</td>\n",
       "      <td>14</td>\n",
       "      <td>Yes</td>\n",
       "      <td>3</td>\n",
       "      <td>Yes</td>\n",
       "      <td>No</td>\n",
       "      <td>No</td>\n",
       "      <td>No</td>\n",
       "      <td>2.253871</td>\n",
       "      <td>D</td>\n",
       "    </tr>\n",
       "    <tr>\n",
       "      <th>...</th>\n",
       "      <td>...</td>\n",
       "      <td>...</td>\n",
       "      <td>...</td>\n",
       "      <td>...</td>\n",
       "      <td>...</td>\n",
       "      <td>...</td>\n",
       "      <td>...</td>\n",
       "      <td>...</td>\n",
       "      <td>...</td>\n",
       "      <td>...</td>\n",
       "      <td>...</td>\n",
       "      <td>...</td>\n",
       "      <td>...</td>\n",
       "    </tr>\n",
       "    <tr>\n",
       "      <th>1495</th>\n",
       "      <td>1944</td>\n",
       "      <td>15</td>\n",
       "      <td>No Education</td>\n",
       "      <td>10.596678</td>\n",
       "      <td>12</td>\n",
       "      <td>No</td>\n",
       "      <td>1</td>\n",
       "      <td>No</td>\n",
       "      <td>No</td>\n",
       "      <td>No</td>\n",
       "      <td>Yes</td>\n",
       "      <td>1.621012</td>\n",
       "      <td>F</td>\n",
       "    </tr>\n",
       "    <tr>\n",
       "      <th>1496</th>\n",
       "      <td>1566</td>\n",
       "      <td>16</td>\n",
       "      <td>Some College</td>\n",
       "      <td>3.278634</td>\n",
       "      <td>4</td>\n",
       "      <td>Yes</td>\n",
       "      <td>4</td>\n",
       "      <td>Yes</td>\n",
       "      <td>No</td>\n",
       "      <td>No</td>\n",
       "      <td>No</td>\n",
       "      <td>3.244882</td>\n",
       "      <td>B</td>\n",
       "    </tr>\n",
       "    <tr>\n",
       "      <th>1497</th>\n",
       "      <td>3268</td>\n",
       "      <td>18</td>\n",
       "      <td>Some College</td>\n",
       "      <td>7.598010</td>\n",
       "      <td>0</td>\n",
       "      <td>Yes</td>\n",
       "      <td>3</td>\n",
       "      <td>No</td>\n",
       "      <td>No</td>\n",
       "      <td>No</td>\n",
       "      <td>No</td>\n",
       "      <td>3.040730</td>\n",
       "      <td>F</td>\n",
       "    </tr>\n",
       "    <tr>\n",
       "      <th>1498</th>\n",
       "      <td>3237</td>\n",
       "      <td>17</td>\n",
       "      <td>Some College</td>\n",
       "      <td>15.078754</td>\n",
       "      <td>24</td>\n",
       "      <td>No</td>\n",
       "      <td>4</td>\n",
       "      <td>No</td>\n",
       "      <td>No</td>\n",
       "      <td>Yes</td>\n",
       "      <td>No</td>\n",
       "      <td>1.245091</td>\n",
       "      <td>F</td>\n",
       "    </tr>\n",
       "    <tr>\n",
       "      <th>1499</th>\n",
       "      <td>1149</td>\n",
       "      <td>15</td>\n",
       "      <td>Higher</td>\n",
       "      <td>1.360205</td>\n",
       "      <td>22</td>\n",
       "      <td>No</td>\n",
       "      <td>1</td>\n",
       "      <td>Yes</td>\n",
       "      <td>Yes</td>\n",
       "      <td>No</td>\n",
       "      <td>Yes</td>\n",
       "      <td>1.007226</td>\n",
       "      <td>F</td>\n",
       "    </tr>\n",
       "  </tbody>\n",
       "</table>\n",
       "<p>1500 rows × 13 columns</p>\n",
       "</div>"
      ],
      "text/plain": [
       "      StudentID  Age ParentalEducation  StudyTimeWeekly  Absences Tutoring  \\\n",
       "0          1640   18      Some College        10.318918         5       No   \n",
       "1          2939   16        Bachelor's         6.517803         2      Yes   \n",
       "2          2877   15      Some College         0.815700         1       No   \n",
       "3          1628   16       High School         6.304335         8       No   \n",
       "4          2052   15      Some College         2.516047        14      Yes   \n",
       "...         ...  ...               ...              ...       ...      ...   \n",
       "1495       1944   15      No Education        10.596678        12       No   \n",
       "1496       1566   16      Some College         3.278634         4      Yes   \n",
       "1497       3268   18      Some College         7.598010         0      Yes   \n",
       "1498       3237   17      Some College        15.078754        24       No   \n",
       "1499       1149   15            Higher         1.360205        22       No   \n",
       "\n",
       "      ParentalSupport Extracurricular Sports Music Volunteering       GPA  \\\n",
       "0                   2              No    Yes    No           No  2.655994   \n",
       "1                   2              No    Yes    No           No  3.474562   \n",
       "2                   1              No     No   Yes          Yes  2.806878   \n",
       "3                   3              No     No    No           No  2.150546   \n",
       "4                   3             Yes     No    No           No  2.253871   \n",
       "...               ...             ...    ...   ...          ...       ...   \n",
       "1495                1              No     No    No          Yes  1.621012   \n",
       "1496                4             Yes     No    No           No  3.244882   \n",
       "1497                3              No     No    No           No  3.040730   \n",
       "1498                4              No     No   Yes           No  1.245091   \n",
       "1499                1             Yes    Yes    No          Yes  1.007226   \n",
       "\n",
       "     GradeClass  \n",
       "0             C  \n",
       "1             B  \n",
       "2             C  \n",
       "3             D  \n",
       "4             D  \n",
       "...         ...  \n",
       "1495          F  \n",
       "1496          B  \n",
       "1497          F  \n",
       "1498          F  \n",
       "1499          F  \n",
       "\n",
       "[1500 rows x 13 columns]"
      ]
     },
     "execution_count": 731,
     "metadata": {},
     "output_type": "execute_result"
    }
   ],
   "source": [
    "#read data from csv file \n",
    "df = pd.read_csv('Student_List.csv')        \n",
    "df.ParentalEducation\n",
    "df"
   ]
  },
  {
   "cell_type": "code",
   "execution_count": 732,
   "id": "c8b6bc8c-ac1f-41b1-93af-b4c829e91b73",
   "metadata": {},
   "outputs": [
    {
     "name": "stdout",
     "output_type": "stream",
     "text": [
      "Highest education level: 77\n"
     ]
    }
   ],
   "source": [
    "#value counts functions to count \n",
    "highest_education_level = df['ParentalEducation'].value_counts().get('Higher')\n",
    "print('Highest education level:',highest_education_level)"
   ]
  },
  {
   "cell_type": "code",
   "execution_count": 815,
   "id": "faee9ea2-8d11-4fdf-9146-917ad0151cb3",
   "metadata": {},
   "outputs": [
    {
     "name": "stdout",
     "output_type": "stream",
     "text": [
      "No Education: None\n"
     ]
    }
   ],
   "source": [
    "no_education = df['ParentalEducation'].value_counts().get('No Education')\n",
    "print('No Education:',no_education)"
   ]
  },
  {
   "cell_type": "code",
   "execution_count": 734,
   "id": "7fc6bc69-2535-4307-8e7f-334cc50f6dce",
   "metadata": {},
   "outputs": [
    {
     "name": "stdout",
     "output_type": "stream",
     "text": [
      "Most common education level: 0    Some College\n",
      "Name: ParentalEducation, dtype: object\n"
     ]
    }
   ],
   "source": [
    "#use mode function \n",
    "most_common_education_level = df['ParentalEducation'].mode()\n",
    "print('Most common education level:',most_common_education_level)"
   ]
  },
  {
   "cell_type": "markdown",
   "id": "842facc8-bb8a-4f5d-a193-bbd88da23c11",
   "metadata": {},
   "source": [
    "### 2.Replace the values in the 'ParentalEducation' column according to following table:"
   ]
  },
  {
   "cell_type": "code",
   "execution_count": 804,
   "id": "82081079-180e-4fe4-80a2-4d961e549052",
   "metadata": {},
   "outputs": [
    {
     "data": {
      "text/html": [
       "<div>\n",
       "<style scoped>\n",
       "    .dataframe tbody tr th:only-of-type {\n",
       "        vertical-align: middle;\n",
       "    }\n",
       "\n",
       "    .dataframe tbody tr th {\n",
       "        vertical-align: top;\n",
       "    }\n",
       "\n",
       "    .dataframe thead th {\n",
       "        text-align: right;\n",
       "    }\n",
       "</style>\n",
       "<table border=\"1\" class=\"dataframe\">\n",
       "  <thead>\n",
       "    <tr style=\"text-align: right;\">\n",
       "      <th></th>\n",
       "      <th>StudentID</th>\n",
       "      <th>Age</th>\n",
       "      <th>ParentalEducation</th>\n",
       "      <th>StudyTimeWeekly</th>\n",
       "      <th>Absences</th>\n",
       "      <th>Tutoring</th>\n",
       "      <th>ParentalSupport</th>\n",
       "      <th>Extracurricular</th>\n",
       "      <th>Sports</th>\n",
       "      <th>Music</th>\n",
       "      <th>Volunteering</th>\n",
       "      <th>GPA</th>\n",
       "      <th>GradeClass</th>\n",
       "    </tr>\n",
       "  </thead>\n",
       "  <tbody>\n",
       "    <tr>\n",
       "      <th>0</th>\n",
       "      <td>1640</td>\n",
       "      <td>18</td>\n",
       "      <td>2</td>\n",
       "      <td>10.318918</td>\n",
       "      <td>5</td>\n",
       "      <td>No</td>\n",
       "      <td>2</td>\n",
       "      <td>No</td>\n",
       "      <td>Yes</td>\n",
       "      <td>No</td>\n",
       "      <td>No</td>\n",
       "      <td>2.655994</td>\n",
       "      <td>C</td>\n",
       "    </tr>\n",
       "    <tr>\n",
       "      <th>1</th>\n",
       "      <td>2939</td>\n",
       "      <td>16</td>\n",
       "      <td>3</td>\n",
       "      <td>6.517803</td>\n",
       "      <td>2</td>\n",
       "      <td>Yes</td>\n",
       "      <td>2</td>\n",
       "      <td>No</td>\n",
       "      <td>Yes</td>\n",
       "      <td>No</td>\n",
       "      <td>No</td>\n",
       "      <td>3.474562</td>\n",
       "      <td>B</td>\n",
       "    </tr>\n",
       "    <tr>\n",
       "      <th>2</th>\n",
       "      <td>2877</td>\n",
       "      <td>15</td>\n",
       "      <td>2</td>\n",
       "      <td>0.815700</td>\n",
       "      <td>1</td>\n",
       "      <td>No</td>\n",
       "      <td>1</td>\n",
       "      <td>No</td>\n",
       "      <td>No</td>\n",
       "      <td>Yes</td>\n",
       "      <td>Yes</td>\n",
       "      <td>2.806878</td>\n",
       "      <td>C</td>\n",
       "    </tr>\n",
       "    <tr>\n",
       "      <th>3</th>\n",
       "      <td>1628</td>\n",
       "      <td>16</td>\n",
       "      <td>1</td>\n",
       "      <td>6.304335</td>\n",
       "      <td>8</td>\n",
       "      <td>No</td>\n",
       "      <td>3</td>\n",
       "      <td>No</td>\n",
       "      <td>No</td>\n",
       "      <td>No</td>\n",
       "      <td>No</td>\n",
       "      <td>2.150546</td>\n",
       "      <td>D</td>\n",
       "    </tr>\n",
       "    <tr>\n",
       "      <th>4</th>\n",
       "      <td>2052</td>\n",
       "      <td>15</td>\n",
       "      <td>2</td>\n",
       "      <td>2.516047</td>\n",
       "      <td>14</td>\n",
       "      <td>Yes</td>\n",
       "      <td>3</td>\n",
       "      <td>Yes</td>\n",
       "      <td>No</td>\n",
       "      <td>No</td>\n",
       "      <td>No</td>\n",
       "      <td>2.253871</td>\n",
       "      <td>D</td>\n",
       "    </tr>\n",
       "    <tr>\n",
       "      <th>...</th>\n",
       "      <td>...</td>\n",
       "      <td>...</td>\n",
       "      <td>...</td>\n",
       "      <td>...</td>\n",
       "      <td>...</td>\n",
       "      <td>...</td>\n",
       "      <td>...</td>\n",
       "      <td>...</td>\n",
       "      <td>...</td>\n",
       "      <td>...</td>\n",
       "      <td>...</td>\n",
       "      <td>...</td>\n",
       "      <td>...</td>\n",
       "    </tr>\n",
       "    <tr>\n",
       "      <th>1495</th>\n",
       "      <td>1944</td>\n",
       "      <td>15</td>\n",
       "      <td>0</td>\n",
       "      <td>10.596678</td>\n",
       "      <td>12</td>\n",
       "      <td>No</td>\n",
       "      <td>1</td>\n",
       "      <td>No</td>\n",
       "      <td>No</td>\n",
       "      <td>No</td>\n",
       "      <td>Yes</td>\n",
       "      <td>1.621012</td>\n",
       "      <td>F</td>\n",
       "    </tr>\n",
       "    <tr>\n",
       "      <th>1496</th>\n",
       "      <td>1566</td>\n",
       "      <td>16</td>\n",
       "      <td>2</td>\n",
       "      <td>3.278634</td>\n",
       "      <td>4</td>\n",
       "      <td>Yes</td>\n",
       "      <td>4</td>\n",
       "      <td>Yes</td>\n",
       "      <td>No</td>\n",
       "      <td>No</td>\n",
       "      <td>No</td>\n",
       "      <td>3.244882</td>\n",
       "      <td>B</td>\n",
       "    </tr>\n",
       "    <tr>\n",
       "      <th>1497</th>\n",
       "      <td>3268</td>\n",
       "      <td>18</td>\n",
       "      <td>2</td>\n",
       "      <td>7.598010</td>\n",
       "      <td>0</td>\n",
       "      <td>Yes</td>\n",
       "      <td>3</td>\n",
       "      <td>No</td>\n",
       "      <td>No</td>\n",
       "      <td>No</td>\n",
       "      <td>No</td>\n",
       "      <td>3.040730</td>\n",
       "      <td>F</td>\n",
       "    </tr>\n",
       "    <tr>\n",
       "      <th>1498</th>\n",
       "      <td>3237</td>\n",
       "      <td>17</td>\n",
       "      <td>2</td>\n",
       "      <td>15.078754</td>\n",
       "      <td>24</td>\n",
       "      <td>No</td>\n",
       "      <td>4</td>\n",
       "      <td>No</td>\n",
       "      <td>No</td>\n",
       "      <td>Yes</td>\n",
       "      <td>No</td>\n",
       "      <td>1.245091</td>\n",
       "      <td>F</td>\n",
       "    </tr>\n",
       "    <tr>\n",
       "      <th>1499</th>\n",
       "      <td>1149</td>\n",
       "      <td>15</td>\n",
       "      <td>4</td>\n",
       "      <td>1.360205</td>\n",
       "      <td>22</td>\n",
       "      <td>No</td>\n",
       "      <td>1</td>\n",
       "      <td>Yes</td>\n",
       "      <td>Yes</td>\n",
       "      <td>No</td>\n",
       "      <td>Yes</td>\n",
       "      <td>1.007226</td>\n",
       "      <td>F</td>\n",
       "    </tr>\n",
       "  </tbody>\n",
       "</table>\n",
       "<p>1500 rows × 13 columns</p>\n",
       "</div>"
      ],
      "text/plain": [
       "      StudentID  Age  ParentalEducation  StudyTimeWeekly  Absences Tutoring  \\\n",
       "0          1640   18                  2        10.318918         5       No   \n",
       "1          2939   16                  3         6.517803         2      Yes   \n",
       "2          2877   15                  2         0.815700         1       No   \n",
       "3          1628   16                  1         6.304335         8       No   \n",
       "4          2052   15                  2         2.516047        14      Yes   \n",
       "...         ...  ...                ...              ...       ...      ...   \n",
       "1495       1944   15                  0        10.596678        12       No   \n",
       "1496       1566   16                  2         3.278634         4      Yes   \n",
       "1497       3268   18                  2         7.598010         0      Yes   \n",
       "1498       3237   17                  2        15.078754        24       No   \n",
       "1499       1149   15                  4         1.360205        22       No   \n",
       "\n",
       "      ParentalSupport Extracurricular Sports Music Volunteering       GPA  \\\n",
       "0                   2              No    Yes    No           No  2.655994   \n",
       "1                   2              No    Yes    No           No  3.474562   \n",
       "2                   1              No     No   Yes          Yes  2.806878   \n",
       "3                   3              No     No    No           No  2.150546   \n",
       "4                   3             Yes     No    No           No  2.253871   \n",
       "...               ...             ...    ...   ...          ...       ...   \n",
       "1495                1              No     No    No          Yes  1.621012   \n",
       "1496                4             Yes     No    No           No  3.244882   \n",
       "1497                3              No     No    No           No  3.040730   \n",
       "1498                4              No     No   Yes           No  1.245091   \n",
       "1499                1             Yes    Yes    No          Yes  1.007226   \n",
       "\n",
       "     GradeClass  \n",
       "0             C  \n",
       "1             B  \n",
       "2             C  \n",
       "3             D  \n",
       "4             D  \n",
       "...         ...  \n",
       "1495          F  \n",
       "1496          B  \n",
       "1497          F  \n",
       "1498          F  \n",
       "1499          F  \n",
       "\n",
       "[1500 rows x 13 columns]"
      ]
     },
     "execution_count": 804,
     "metadata": {},
     "output_type": "execute_result"
    }
   ],
   "source": [
    "#create a dictionary \n",
    "column = {\n",
    "    'No Education': 0,\n",
    "    'High School' : 1,\n",
    "    'Some College': 2,\n",
    "    \"Bachelor's\": 3,\n",
    "    'Higher': 4\n",
    "}\n",
    "\n",
    "#use replace function \n",
    "df['ParentalEducation'] = df['ParentalEducation'].replace(column)\n",
    "df"
   ]
  },
  {
   "cell_type": "markdown",
   "id": "10099a5b-5694-4000-838a-32702c08fb0e",
   "metadata": {},
   "source": [
    "### 3. Use a boxplot to visualise the distribution of GPA for each level of ParentalEducation.\n",
    "Looking at the boxplot, what can you say about the relationship between parental\n",
    "education and the students’ GPA?"
   ]
  },
  {
   "cell_type": "code",
   "execution_count": 738,
   "id": "1b506f2b-1f26-4074-8db0-e66132497a91",
   "metadata": {
    "scrolled": true
   },
   "outputs": [
    {
     "data": {
      "image/png": "[encoded data removed]",
      "text/plain": [
       "<Figure size 640x480 with 1 Axes>"
      ]
     },
     "metadata": {},
     "output_type": "display_data"
    }
   ],
   "source": [
    "df.boxplot(column ='GPA', by = 'ParentalEducation')\n",
    "plt.xlabel('Parental Education')\n",
    "plt.ylabel(\"Student's GPA\")\n",
    "plt.title(\"Relationship between parental education and student's GPA\")\n",
    "plt.show()"
   ]
  },
  {
   "cell_type": "markdown",
   "id": "99c3c481-a831-40b2-aea7-e684b98dbc9a",
   "metadata": {},
   "source": [
    "### Explanation:"
   ]
  },
  {
   "cell_type": "markdown",
   "id": "adc129c6-58ff-490f-831e-78e0e1153273",
   "metadata": {},
   "source": [
    "##### The boxplot shows that there isn't a clear or significant correlation between students' GPA and parental education. From the interquartile range in boxplot , we can know that 50% of students' GPAs are spread out similarly, regardless of their parents' education level.The students' GPA distributions are rather comparable regardless of whether their parents have no education,high school, or some college , bachelor or higher . This suggests that the level of education of a parent may not be a really important factor in influencing a student's GPA. \r\n",
    "\r\n"
   ]
  },
  {
   "cell_type": "markdown",
   "id": "fb9389db-0815-490c-b851-8c500a37e4e3",
   "metadata": {},
   "source": [
    "# A3. GPA distribution and Correlation Analysis"
   ]
  },
  {
   "cell_type": "markdown",
   "id": "6cc60cbd-8b15-412e-9d30-a10d98dfcc90",
   "metadata": {},
   "source": [
    "### 1.Create a histogram to visualise the distribution of GPA. Summarise your observations."
   ]
  },
  {
   "cell_type": "code",
   "execution_count": 743,
   "id": "cd28a32a-163f-4f93-8323-e4b5cac827dd",
   "metadata": {},
   "outputs": [
    {
     "data": {
      "image/png": "[encoded data removed]",
      "text/plain": [
       "<Figure size 640x480 with 1 Axes>"
      ]
     },
     "metadata": {},
     "output_type": "display_data"
    }
   ],
   "source": [
    "df.GPA.hist(bins=15 , color = \"turquoise\")\n",
    "plt.xlabel('GPA')\n",
    "plt.ylabel('Number of Students')\n",
    "plt.title('Distribution of GPA')\n",
    "plt.show()"
   ]
  },
  {
   "cell_type": "markdown",
   "id": "6dc8f624-cd04-4e85-a9ff-351f4da74960",
   "metadata": {},
   "source": [
    "#### Explanation:\n",
    "##### This histogram shows that majority of students have GPA with lower to middle range which is 1.0 - 3.0 ,relatively students have high performance of 3.5 - 4.0 , and a small number are underperforming which is 0.0 - 1.5.\n"
   ]
  },
  {
   "cell_type": "markdown",
   "id": "2e999d34-7551-4dd2-80e7-35621a2ce5bd",
   "metadata": {},
   "source": [
    "### 2.Does a higher weekly study time correlate with better GPA? Use a scatter plot to visualise this relationship and calculate the correlation coefficient."
   ]
  },
  {
   "cell_type": "code",
   "execution_count": 746,
   "id": "ea8c56a4-8974-4c32-aa2e-3cfae90c299c",
   "metadata": {},
   "outputs": [
    {
     "data": {
      "image/png": "[encoded data removed]",
      "text/plain": [
       "<Figure size 640x480 with 1 Axes>"
      ]
     },
     "metadata": {},
     "output_type": "display_data"
    }
   ],
   "source": [
    "plt.scatter(df['StudyTimeWeekly'], df['GPA'] , color = \"slateblue\")\n",
    "plt.xlabel('Study Time Weekly')\n",
    "plt.ylabel('GPA')\n",
    "plt.title('Relationsip between Weekly Study Time and GPA')\n",
    "plt.show()"
   ]
  },
  {
   "cell_type": "code",
   "execution_count": 823,
   "id": "f2596e6e-e4fa-45d6-821c-588388e4d036",
   "metadata": {},
   "outputs": [
    {
     "name": "stdout",
     "output_type": "stream",
     "text": [
      "Correlation Coefficient: 0.19049313037112514\n"
     ]
    }
   ],
   "source": [
    "#use .corr() function \n",
    "correct_correlation = df['StudyTimeWeekly'].corr(df['GPA'])\n",
    "print('Correlation Coefficient:',correct_correlation)"
   ]
  },
  {
   "cell_type": "markdown",
   "id": "d018bf9d-8df8-4218-83af-b9abe781893c",
   "metadata": {},
   "source": [
    "### 3. How about any correlation between absences and GPA? Use a scatter plot to visualise this relationship and calculate the correlation coefficient."
   ]
  },
  {
   "cell_type": "code",
   "execution_count": 749,
   "id": "b93b45c9-5336-4801-92fd-4882f6f8706b",
   "metadata": {},
   "outputs": [
    {
     "data": {
      "image/png": "[encoded data removed]",
      "text/plain": [
       "<Figure size 640x480 with 1 Axes>"
      ]
     },
     "metadata": {},
     "output_type": "display_data"
    }
   ],
   "source": [
    "plt.scatter(df['Absences'], df['GPA'] , color = \"burlywood\")\n",
    "plt.xlabel('Absences')\n",
    "plt.ylabel('GPA')\n",
    "plt.title('Relationship between Absences and GPA')\n",
    "plt.show()"
   ]
  },
  {
   "cell_type": "code",
   "execution_count": 826,
   "id": "568f2c06-5a71-4cf5-844e-79cfa0c4f870",
   "metadata": {},
   "outputs": [
    {
     "name": "stdout",
     "output_type": "stream",
     "text": [
      "Correlation Coefficient: -0.9194876943290949\n"
     ]
    }
   ],
   "source": [
    "correct_correlation = df['Absences'].corr(df['GPA'])\n",
    "print('Correlation Coefficient:',correct_correlation)"
   ]
  },
  {
   "cell_type": "markdown",
   "id": "549562ee-c3e7-4456-b570-113edc477ac0",
   "metadata": {},
   "source": [
    "# A4.Extracurricular Activities"
   ]
  },
  {
   "cell_type": "markdown",
   "id": "3dc1839e-4102-4d18-bf4e-03b08a813aa8",
   "metadata": {},
   "source": [
    "### 1. Select a list of students who are involved in Sports, Music, Volunteering and Extracurricular activities. How many students are there? Assume this is called group A"
   ]
  },
  {
   "cell_type": "code",
   "execution_count": 857,
   "id": "ff5581d5-9753-4e44-9cf2-9051bdf60500",
   "metadata": {},
   "outputs": [
    {
     "name": "stdout",
     "output_type": "stream",
     "text": [
      "Number of students in Group A: 5\n"
     ]
    }
   ],
   "source": [
    "#use '&' to make sure all the criteria is selected\n",
    "# 'Yes' means that the student involved in the activity\n",
    "group_A = df[(df['Sports'] == 'Yes') & (df['Music'] == 'Yes') & (df['Volunteering'] == 'Yes') & (df['Extracurricular'] == 'Yes')]\n",
    "#determine the length of group A\n",
    "num_students = len(group_A)\n",
    "print('Number of students in Group A:', num_students)"
   ]
  },
  {
   "cell_type": "markdown",
   "id": "9934f008-b9e6-4447-90f7-52f0115195cc",
   "metadata": {},
   "source": [
    "### 2. Now Select students who did not involve in any of the above activities. How many students are there? Assume this is called group B. "
   ]
  },
  {
   "cell_type": "code",
   "execution_count": 860,
   "id": "3ee5c418-b936-4355-b76d-2824ff27baef",
   "metadata": {},
   "outputs": [
    {
     "name": "stdout",
     "output_type": "stream",
     "text": [
      "Number of students in Group B: 432\n"
     ]
    }
   ],
   "source": [
    "# 'No' means that the student does not involved in the activity\n",
    "group_B = df[(df['Sports'] == 'No') & (df['Music'] == 'No') & (df['Volunteering'] == 'No') & (df['Extracurricular'] == 'No')]\n",
    "num_students = len(group_B)\n",
    "print('Number of students in Group B:', num_students)"
   ]
  },
  {
   "cell_type": "markdown",
   "id": "e171ae5d-06da-40ff-b01e-d13e245a5426",
   "metadata": {},
   "source": [
    "### 3. Compare the mean GPA of students in group A versus group B. What can you say?"
   ]
  },
  {
   "cell_type": "code",
   "execution_count": 863,
   "id": "7dbe3bf0-67b3-42c6-932b-47da194fc4a0",
   "metadata": {},
   "outputs": [
    {
     "name": "stdout",
     "output_type": "stream",
     "text": [
      "GPA of students in Group A: 2.4475262217999996\n",
      "GPA of students in Group B: 1.7312226005532407\n"
     ]
    }
   ],
   "source": [
    "#use mean() function\n",
    "mean_GPA_A = group_A['GPA'].mean()\n",
    "mean_GPA_B = group_B['GPA'].mean()\n",
    "print('GPA of students in Group A:',mean_GPA_A)\n",
    "print('GPA of students in Group B:',mean_GPA_B)"
   ]
  },
  {
   "cell_type": "markdown",
   "id": "55411cae-c348-477a-9818-bced8808cca8",
   "metadata": {},
   "source": [
    "### Explanation:\n",
    "##### The mean of GPA of students in group A is 2.45,while mean of GPA of students in group B is 1.73. This means that students of group A are performing better than students of group B."
   ]
  },
  {
   "cell_type": "markdown",
   "id": "ea37f9c0-7c4d-40d1-a5af-d509547e5030",
   "metadata": {},
   "source": [
    "# A5. Exploring Parental Support and Tutoring"
   ]
  },
  {
   "cell_type": "markdown",
   "id": "90c316c3-cf1c-4223-bfc2-12a1c369b37c",
   "metadata": {},
   "source": [
    "### 1. Aggregate the data by ParentalSupport and find the mean and median GPA for each group. Also, find the number of students who are 18 years old in each group.."
   ]
  },
  {
   "cell_type": "code",
   "execution_count": 868,
   "id": "99820c8b-6990-4390-9777-a5027bfd5e0d",
   "metadata": {},
   "outputs": [
    {
     "name": "stdout",
     "output_type": "stream",
     "text": [
      "                     mean    median\n",
      "ParentalSupport                    \n",
      "0                1.521602  1.471672\n",
      "1                1.735855  1.740455\n",
      "2                1.845914  1.817007\n",
      "3                2.068174  2.070669\n",
      "4                2.227639  2.215516\n"
     ]
    }
   ],
   "source": [
    "#groupby the data frame \n",
    "#select 'GPA' for aggregation \n",
    "# use agg() function\n",
    "new_data = df.groupby('ParentalSupport')['GPA'].agg(['mean', 'median'])\n",
    "print(new_data)"
   ]
  },
  {
   "cell_type": "code",
   "execution_count": 872,
   "id": "176048a6-0702-4205-b60b-cbd96a3f8943",
   "metadata": {},
   "outputs": [
    {
     "data": {
      "text/html": [
       "<div>\n",
       "<style scoped>\n",
       "    .dataframe tbody tr th:only-of-type {\n",
       "        vertical-align: middle;\n",
       "    }\n",
       "\n",
       "    .dataframe tbody tr th {\n",
       "        vertical-align: top;\n",
       "    }\n",
       "\n",
       "    .dataframe thead th {\n",
       "        text-align: right;\n",
       "    }\n",
       "</style>\n",
       "<table border=\"1\" class=\"dataframe\">\n",
       "  <thead>\n",
       "    <tr style=\"text-align: right;\">\n",
       "      <th></th>\n",
       "      <th>mean</th>\n",
       "      <th>median</th>\n",
       "    </tr>\n",
       "    <tr>\n",
       "      <th>ParentalSupport</th>\n",
       "      <th></th>\n",
       "      <th></th>\n",
       "    </tr>\n",
       "  </thead>\n",
       "  <tbody>\n",
       "    <tr>\n",
       "      <th>None</th>\n",
       "      <td>1.521602</td>\n",
       "      <td>1.471672</td>\n",
       "    </tr>\n",
       "    <tr>\n",
       "      <th>Low</th>\n",
       "      <td>1.735855</td>\n",
       "      <td>1.740455</td>\n",
       "    </tr>\n",
       "    <tr>\n",
       "      <th>Moderate</th>\n",
       "      <td>1.845914</td>\n",
       "      <td>1.817007</td>\n",
       "    </tr>\n",
       "    <tr>\n",
       "      <th>High</th>\n",
       "      <td>2.068174</td>\n",
       "      <td>2.070669</td>\n",
       "    </tr>\n",
       "    <tr>\n",
       "      <th>Very High</th>\n",
       "      <td>2.227639</td>\n",
       "      <td>2.215516</td>\n",
       "    </tr>\n",
       "  </tbody>\n",
       "</table>\n",
       "</div>"
      ],
      "text/plain": [
       "                     mean    median\n",
       "ParentalSupport                    \n",
       "None             1.521602  1.471672\n",
       "Low              1.735855  1.740455\n",
       "Moderate         1.845914  1.817007\n",
       "High             2.068174  2.070669\n",
       "Very High        2.227639  2.215516"
      ]
     },
     "execution_count": 872,
     "metadata": {},
     "output_type": "execute_result"
    }
   ],
   "source": [
    "#use rename() function \n",
    "#use index and dictionary to map the old value to new labels \n",
    "new_data.rename(\n",
    "    index ={\n",
    "        0: 'None',\n",
    "        1: 'Low',\n",
    "        2: 'Moderate',\n",
    "        3: 'High',\n",
    "        4: 'Very High'\n",
    "    },\n",
    "    inplace=True\n",
    ")\n",
    "new_data"
   ]
  },
  {
   "cell_type": "code",
   "execution_count": 874,
   "id": "6303d41e-3c12-4632-93ad-893a09531e6e",
   "metadata": {},
   "outputs": [
    {
     "name": "stdout",
     "output_type": "stream",
     "text": [
      "ParentalSupport\n",
      "0     33\n",
      "1     80\n",
      "2     98\n",
      "3    116\n",
      "4     35\n",
      "dtype: int64\n"
     ]
    }
   ],
   "source": [
    "#choose the data frame of age that includes onl 18 \n",
    "students_18 = df[df['Age'] == 18]\n",
    "#use size() function counts the number\n",
    "students_18_count = students_18.groupby('ParentalSupport').size()\n",
    "print(students_18_count)"
   ]
  },
  {
   "cell_type": "code",
   "execution_count": 876,
   "id": "c13983c1-b2b5-4e64-978e-8ac198d35551",
   "metadata": {},
   "outputs": [
    {
     "name": "stdout",
     "output_type": "stream",
     "text": [
      "                 Mean GPA  Median GPA  Number of 18-Year-Old Students\n",
      "ParentalSupport                                                      \n",
      "0                1.521602    1.471672                              33\n",
      "1                1.735855    1.740455                              80\n",
      "2                1.845914    1.817007                              98\n",
      "3                2.068174    2.070669                             116\n",
      "4                2.227639    2.215516                              35\n"
     ]
    }
   ],
   "source": [
    "#use lambda x:(x == 18).sum() to count number of students who are 18 in each group \n",
    "grouped_data = df.groupby('ParentalSupport').agg({\n",
    "    'GPA': ['mean', 'median'],\n",
    "    'Age': lambda x: (x == 18).sum()\n",
    "})\n",
    "\n",
    "grouped_data.columns = ['Mean GPA', 'Median GPA', 'Number of 18-Year-Old Students']\n",
    "\n",
    "print(grouped_data)"
   ]
  },
  {
   "cell_type": "markdown",
   "id": "c112445f-25ad-41aa-b060-f4afc15dbf66",
   "metadata": {},
   "source": [
    "### 2. Plot a side by side bar chart to visualise the mean and median GPA in each level of parental support and discuss your observations. Your bar chart should illustrate each level of parental support as below."
   ]
  },
  {
   "cell_type": "code",
   "execution_count": 879,
   "id": "60468fde-0a38-48a4-aef6-862352647dda",
   "metadata": {},
   "outputs": [
    {
     "data": {
      "image/png": "[encoded data removed]",
      "text/plain": [
       "<Figure size 1000x600 with 1 Axes>"
      ]
     },
     "metadata": {},
     "output_type": "display_data"
    }
   ],
   "source": [
    "new_data.plot(kind='bar', figsize=(10, 6), width=0.8 ,color = {\"mean\" :\"lightblue\" , \"median\" : \"lightpink\"})\n",
    "plt.title('Analysis of GPA and Age Distribution by Parental Support', fontsize=16)\n",
    "plt.xlabel('Parental Support', fontsize=14)\n",
    "plt.ylabel('GPA', fontsize=14)\n",
    "plt.xticks(rotation=0)\n",
    "plt.legend(title='GPA Type', loc='upper left')\n",
    "plt.grid(True, axis='y')\n",
    "plt.show()"
   ]
  },
  {
   "cell_type": "markdown",
   "id": "4183c1b2-6a70-4f02-b910-8b573922cd81",
   "metadata": {},
   "source": [
    "### Explanation:\n",
    "##### This barchart provides a visual summary of how parental supports affect GPA. When the mean and median of GPA is high, the parental support is high. While the mean and median of GPA is low, the parental support is low.This shows that parental support is very important for students GPA."
   ]
  },
  {
   "cell_type": "markdown",
   "id": "aeb2f69a-2e2b-438b-9f69-2fadb1f1e7ff",
   "metadata": {},
   "source": [
    "### 3. Calculate the average GPA for students who receive Tutoring versus those who don't. \n",
    "Visualise the results using a barchart and explain what you observe."
   ]
  },
  {
   "cell_type": "code",
   "execution_count": 881,
   "id": "4234826c-cd5e-4e20-8ee3-2fe9c33a6bf1",
   "metadata": {},
   "outputs": [
    {
     "data": {
      "text/plain": [
       "Tutoring\n",
       "No     1.804967\n",
       "Yes    2.123106\n",
       "Name: GPA, dtype: float64"
      ]
     },
     "execution_count": 881,
     "metadata": {},
     "output_type": "execute_result"
    }
   ],
   "source": [
    "average_gpa = df.groupby('Tutoring')['GPA'].mean()\n",
    "average_gpa"
   ]
  },
  {
   "cell_type": "code",
   "execution_count": 883,
   "id": "c2f7f74d-ece2-476d-a788-e9b9ee414191",
   "metadata": {},
   "outputs": [
    {
     "data": {
      "image/png": "[encoded data removed]",
      "text/plain": [
       "<Figure size 640x480 with 1 Axes>"
      ]
     },
     "metadata": {},
     "output_type": "display_data"
    }
   ],
   "source": [
    "average_gpa.plot.bar(x = 'Tutoring' , y = 'GPA' ,color =\"lightblue\",rot=0)\n",
    "plt.title(\"Average GPA for students who receive Tutoring versus those who don't\", fontsize=16)\n",
    "plt.xlabel(\"Tutoring\", fontsize=14)\n",
    "plt.ylabel('GPA', fontsize=14)\n",
    "plt.show()"
   ]
  },
  {
   "cell_type": "markdown",
   "id": "3df92074-6f59-4c09-b24a-4f70efc489de",
   "metadata": {},
   "source": [
    "#### Explanation:"
   ]
  },
  {
   "cell_type": "markdown",
   "id": "194cfb99-965e-436a-b7ce-f66debca9be2",
   "metadata": {},
   "source": [
    "##### This barchart shows the average GPA for students who receiving Tutoring versus those who dont. The barchart prove that the students receive tutoring will leads to a higher average GPA. Which means tutoring will help students to get better academic performance."
   ]
  }
 ],
 "metadata": {
  "kernelspec": {
   "display_name": "Python 3 (ipykernel)",
   "language": "python",
   "name": "python3"
  },
  "language_info": {
   "codemirror_mode": {
    "name": "ipython",
    "version": 3
   },
   "file_extension": ".py",
   "mimetype": "text/x-python",
   "name": "python",
   "nbconvert_exporter": "python",
   "pygments_lexer": "ipython3",
   "version": "3.12.4"
  }
 },
 "nbformat": 4,
 "nbformat_minor": 5
}
